{
 "cells": [
  {
   "cell_type": "code",
   "execution_count": 21,
   "id": "f9ef8e8d",
   "metadata": {},
   "outputs": [],
   "source": [
    "#MNIST Classification\n",
    "import torch\n",
    "from torch import nn, optim\n",
    "import torch.nn.functional as F\n",
    "import torchvision\n",
    "from torchvision import datasets, transforms\n",
    "import matplotlib.pyplot as plt\n",
    "import numpy as np"
   ]
  },
  {
   "cell_type": "code",
   "execution_count": 22,
   "id": "f9d4ed50",
   "metadata": {},
   "outputs": [
    {
     "name": "stdout",
     "output_type": "stream",
     "text": [
      "60000\n",
      "10000\n"
     ]
    }
   ],
   "source": [
    "batch_size = 12\n",
    "\n",
    "train_data = datasets.MNIST('./datasets', train = True, download = True, transform = transforms.ToTensor())\n",
    "test_data = datasets.MNIST('./datasets', train = False, download = True, transform = transforms.ToTensor())\n",
    "\n",
    "train_loader = torch.utils.data.DataLoader(train_data, batch_size = batch_size, shuffle = True)\n",
    "test_loader = torch.utils.data.DataLoader(test_data, batch_size = batch_size)\n",
    "\n",
    "print(len(train_data))\n",
    "print(len(test_data))"
   ]
  },
  {
   "cell_type": "code",
   "execution_count": 23,
   "id": "7b69c169",
   "metadata": {},
   "outputs": [],
   "source": [
    "# Model #1\n",
    "class MLP(nn.Module):\n",
    "    def __init__(self):\n",
    "        super().__init__()\n",
    "        \n",
    "        self.in_dim = 28*28\n",
    "        self.out_dim = 10\n",
    "        \n",
    "        self.fc1 = nn.Linear(self.in_dim, 30)\n",
    "        self.fc2 = nn.Linear(30, 30)\n",
    "        self.fc3 = nn.Linear(30, 10)\n",
    "        self.fc4 = nn.Linear(10, self.out_dim)\n",
    "\n",
    "    def forward(self, x):\n",
    "        x = F.tanh(self.fc1(x.view(-1, self.in_dim)))\n",
    "        x = F.tanh(self.fc2(x))\n",
    "        x = F.tanh(self.fc3(x))\n",
    "        x = self.fc4(x)\n",
    "    \n",
    "        return x"
   ]
  },
  {
   "cell_type": "code",
   "execution_count": 24,
   "id": "5d025a73",
   "metadata": {},
   "outputs": [
    {
     "name": "stdout",
     "output_type": "stream",
     "text": [
      "[1,  2500] loss: 1.324\n",
      "[1,  5000] loss: 0.479\n",
      "[2,  2500] loss: 0.338\n",
      "[2,  5000] loss: 0.277\n",
      "[3,  2500] loss: 0.231\n",
      "[3,  5000] loss: 0.214\n",
      "[4,  2500] loss: 0.182\n",
      "[4,  5000] loss: 0.176\n",
      "[5,  2500] loss: 0.159\n",
      "[5,  5000] loss: 0.150\n",
      "Finished Training\n"
     ]
    }
   ],
   "source": [
    "#Training Dataset Using Model #1\n",
    "model = MLP()\n",
    "criterion = nn.CrossEntropyLoss()\n",
    "optimizer = optim.SGD(model.parameters(), lr = 0.01)\n",
    "\n",
    "for epoch in range(5):\n",
    "    running_loss = 0.0\n",
    "    for i, data in enumerate(train_loader, 0):\n",
    "        inputs, labels = data\n",
    "        model.zero_grad()\n",
    "        \n",
    "        outputs = model(inputs)\n",
    "        loss = criterion(outputs, labels)\n",
    "        loss.backward()\n",
    "        optimizer.step()\n",
    "        \n",
    "        running_loss += loss.item()\n",
    "        \n",
    "        if(i + 1) % 2500 == 0:\n",
    "            print('[%d, %5d] loss: %.3f' % (epoch + 1, i + 1, running_loss / 2500))\n",
    "            running_loss = 0.0\n",
    "            \n",
    "print('Finished Training')"
   ]
  },
  {
   "cell_type": "code",
   "execution_count": 25,
   "id": "3202fd07",
   "metadata": {},
   "outputs": [
    {
     "name": "stdout",
     "output_type": "stream",
     "text": [
      "9482/10000\n",
      "Accuracy: 0.948\n"
     ]
    }
   ],
   "source": [
    "#Testing 10,000 Data from Dataset\n",
    "n_predict = 0\n",
    "n_correct = 0\n",
    "\n",
    "for data in test_loader:\n",
    "    inputs, labels = data\n",
    "    outputs = model(inputs)\n",
    "    _, predicted = torch.max(outputs, 1)\n",
    "    \n",
    "    n_predict += len(predicted)\n",
    "    n_correct += (labels == predicted).sum()\n",
    "    \n",
    "print(f\"{n_correct}/{n_predict}\")\n",
    "print(f\"Accuracy: {n_correct/n_predict:.3f}\")"
   ]
  },
  {
   "cell_type": "markdown",
   "id": "cc805a75-e46b-43cf-9da8-1c2b18951bb1",
   "metadata": {},
   "source": [
    "## Save weight and bias"
   ]
  },
  {
   "cell_type": "code",
   "execution_count": 26,
   "id": "c6540e5e-5626-4913-8543-ba5d48371904",
   "metadata": {},
   "outputs": [],
   "source": [
    "size = [784, 30, 30, 10, 10] # Set your DNN configuration\n",
    "weights = []\n",
    "biases = []\n",
    "for i_layer in range(len(size)-1):\n",
    "    weights.append([w.tolist() for w in list(model.parameters())[i_layer*2]]) # even index number: weights\n",
    "    biases.append([[b.tolist()] for b in list(model.parameters())[i_layer*2+1]]) # odd index number: biases"
   ]
  },
  {
   "cell_type": "code",
   "execution_count": 27,
   "id": "f192a3b8-ade9-4deb-bdab-94f86887257b",
   "metadata": {},
   "outputs": [],
   "source": [
    "import json\n",
    "f=open(\"WeightsAndBiases.txt\", \"w\")\n",
    "data = {\"sizes\": size,\n",
    "        \"weights\": weights,\n",
    "        \"biases\": biases,\n",
    "        \"cost\": \"CrossEntropyCost\"}\n",
    "json.dump(data, f)\n",
    "f.close()"
   ]
  },
  {
   "cell_type": "markdown",
   "id": "563cb156-a28b-4869-a805-2f7efa89cd3c",
   "metadata": {},
   "source": [
    "### Plot histogram"
   ]
  },
  {
   "cell_type": "code",
   "execution_count": 28,
   "id": "7bb012dd-94e3-4461-a448-7034d99525aa",
   "metadata": {},
   "outputs": [
    {
     "name": "stdout",
     "output_type": "stream",
     "text": [
      "24820\n",
      "80\n",
      "max:  1.559559941291809\n",
      "min:  -1.551759123802185\n"
     ]
    },
    {
     "data": {
      "image/png": "[encoded data removed]",
      "text/plain": [
       "<Figure size 640x480 with 1 Axes>"
      ]
     },
     "metadata": {},
     "output_type": "display_data"
    },
    {
     "data": {
      "image/png": "[encoded data removed]",
      "text/plain": [
       "<Figure size 640x480 with 1 Axes>"
      ]
     },
     "metadata": {},
     "output_type": "display_data"
    }
   ],
   "source": [
    "import matplotlib.pyplot as plt\n",
    "weights_flat=[]\n",
    "biases_flat=[]\n",
    "for i_layer in range(len(size)-1):\n",
    "    w=[w.tolist() for w in list(model.parameters())[i_layer*2]]\n",
    "    b=[b.tolist() for b in list(model.parameters())[i_layer*2+1]]\n",
    "    biases_flat += b\n",
    "    for k in range(len(w)):\n",
    "        weights_flat += w[k]\n",
    "plt.figure()\n",
    "plt.title(\"Weights\")\n",
    "plt.hist(weights_flat);\n",
    "plt.figure()\n",
    "plt.title(\"Biases\")\n",
    "plt.hist(biases_flat);\n",
    "print(len(weights_flat))\n",
    "print(len(biases_flat))\n",
    "print(\"max: \", max(weights_flat))\n",
    "print(\"min: \", min(weights_flat))"
   ]
  },
  {
   "cell_type": "markdown",
   "id": "b642e261-d8ad-426a-8de1-e25ec6be673b",
   "metadata": {},
   "source": [
    "## Write Verilog mif"
   ]
  },
  {
   "cell_type": "code",
   "execution_count": 9,
   "id": "ec14dbd6-c1e0-4430-8a70-89d3e1dc47c9",
   "metadata": {},
   "outputs": [],
   "source": [
    "import os\n",
    "os.makedirs(\"./w_b\")"
   ]
  },
  {
   "cell_type": "code",
   "execution_count": 29,
   "id": "4a63655a-98a8-410b-90b1-8593dcbe6b71",
   "metadata": {},
   "outputs": [],
   "source": [
    "import json\n",
    "dataWidth = 16\n",
    "dataIntWidth = 1\n",
    "weightIntWidth = 4\n",
    "inputFile = \"WeightsAndBiases.txt\"\n",
    "#dataFracWidth = dataWidth-dataIntWidth\n",
    "weightFracWidth = dataWidth-weightIntWidth\n",
    "#biasIntWidth = dataIntWidth+weightIntWidth\n",
    "biasIntWidth = weightIntWidth\n",
    "biasFracWidth = dataWidth-biasIntWidth\n",
    "outputPath = \"./w_b/\"\n",
    "headerPath = \"./\"\n",
    "\n",
    "def DtoB(num,dataWidth,fracBits):                        #funtion for converting into two's complement format\n",
    "    if num >= 0:\n",
    "        num = num * (2**fracBits)\n",
    "        #num = int(num)\n",
    "        num = round(num)\n",
    "        d = num\n",
    "    else:\n",
    "        num = -num\n",
    "        num = num * (2**fracBits)        #number of fractional bits\n",
    "        #num = int(num)\n",
    "        num = round(num)\n",
    "        if num == 0:\n",
    "            d = 0\n",
    "        else:\n",
    "            d = 2**dataWidth - num\n",
    "    return d\n",
    "\n",
    "def genWaitAndBias(dataWidth,weightFracWidth,biasFracWidth,inputFile):\n",
    "    weightIntWidth = dataWidth-weightFracWidth\n",
    "    biasIntWidth = dataWidth-biasFracWidth\n",
    "    myDataFile = open(inputFile,\"r\")\n",
    "    weightHeaderFile = open(headerPath+\"weightValues.h\",\"w\")\n",
    "    myData = myDataFile.read()\n",
    "    myDict = json.loads(myData)\n",
    "    myWeights = myDict['weights']\n",
    "    myBiases = myDict['biases']\n",
    "    weightHeaderFile.write(\"int weightValues[]={\")\n",
    "    for layer in range(0,len(myWeights)):\n",
    "        for neuron in range(0,len(myWeights[layer])):\n",
    "            fi = 'w_'+str(layer+1)+'_'+str(neuron)+'.mif'\n",
    "            f = open(outputPath+fi,'w')\n",
    "            for weight in range(0,len(myWeights[layer][neuron])):\n",
    "                if 'e' in str(myWeights[layer][neuron][weight]):\n",
    "                    p = '0'\n",
    "                else:\n",
    "                    if myWeights[layer][neuron][weight] > 2**(weightIntWidth-1):\n",
    "                        myWeights[layer][neuron][weight] = 2**(weightIntWidth-1)-2**(-weightFracWidth)\n",
    "                        print(\"overflow happens\")\n",
    "                        exit(0)\n",
    "                    elif myWeights[layer][neuron][weight] < -2**(weightIntWidth-1):\n",
    "                        myWeights[layer][neuron][weight] = -2**(weightIntWidth-1)\n",
    "                        print(\"overflow happens\")\n",
    "                        exit(0)\n",
    "                    wInDec = DtoB(myWeights[layer][neuron][weight],dataWidth,weightFracWidth)\n",
    "                    p = bin(wInDec)[2:]\n",
    "                f.write(p+'\\n')\n",
    "                weightHeaderFile.write(str(wInDec)+',')\n",
    "            f.close()\n",
    "    weightHeaderFile.write('0};\\n')\n",
    "    weightHeaderFile.close()\n",
    "    \n",
    "    biasHeaderFile = open(headerPath+\"biasValues.h\",\"w\")\n",
    "    biasHeaderFile.write(\"int biasValues[]={\")\n",
    "    for layer in range(0,len(myBiases)):\n",
    "        for neuron in range(0,len(myBiases[layer])):\n",
    "            fi = 'b_'+str(layer+1)+'_'+str(neuron)+'.mif'\n",
    "            p = myBiases[layer][neuron][0]\n",
    "            if 'e' in str(p): #To remove very small values with exponents\n",
    "                res = '0'\n",
    "            else:\n",
    "                if p > 2**(biasIntWidth-1):\n",
    "                    p = 2**(biasIntWidth-1)-2**(-biasFracWidth)\n",
    "                elif p < -2**(biasIntWidth-1):\n",
    "                    p = -2**(biasIntWidth-1)\n",
    "                bInDec = DtoB(p,dataWidth,biasFracWidth)\n",
    "                res = bin(bInDec)[2:]\n",
    "            f = open(outputPath+fi,'w')\n",
    "            f.write(res)\n",
    "            biasHeaderFile.write(str(bInDec)+',')\n",
    "            f.close()\n",
    "    biasHeaderFile.write('0};\\n')\n",
    "    biasHeaderFile.close()\n",
    "            \n",
    "if __name__ == \"__main__\":\n",
    "    genWaitAndBias(dataWidth,weightFracWidth,biasFracWidth,inputFile)"
   ]
  }
 ],
 "metadata": {
  "kernelspec": {
   "display_name": "Python 3 (ipykernel)",
   "language": "python",
   "name": "python3"
  },
  "language_info": {
   "codemirror_mode": {
    "name": "ipython",
    "version": 3
   },
   "file_extension": ".py",
   "mimetype": "text/x-python",
   "name": "python",
   "nbconvert_exporter": "python",
   "pygments_lexer": "ipython3",
   "version": "3.11.5"
  }
 },
 "nbformat": 4,
 "nbformat_minor": 5
}
